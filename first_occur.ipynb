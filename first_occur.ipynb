{
 "cells": [
  {
   "cell_type": "code",
   "execution_count": 4,
   "id": "initial_id",
   "metadata": {
    "collapsed": true,
    "ExecuteTime": {
     "end_time": "2024-10-23T22:28:48.041679Z",
     "start_time": "2024-10-23T22:28:48.033713200Z"
    }
   },
   "outputs": [],
   "source": [
    "def first_occur(n, m):\n",
    "    indexx = 0\n",
    "    for i in n:\n",
    "        if i == m:\n",
    "            break\n",
    "        else:\n",
    "            indexx += 1\n",
    "    return indexx"
   ]
  },
  {
   "cell_type": "code",
   "execution_count": 7,
   "outputs": [
    {
     "data": {
      "text/plain": "2"
     },
     "execution_count": 7,
     "metadata": {},
     "output_type": "execute_result"
    }
   ],
   "source": [
    "first_occur([0,1,2,3,4,5,6],2)"
   ],
   "metadata": {
    "collapsed": false,
    "ExecuteTime": {
     "end_time": "2024-10-23T22:29:02.306134500Z",
     "start_time": "2024-10-23T22:29:02.297437Z"
    }
   },
   "id": "4e1c700d647ece4d"
  },
  {
   "cell_type": "code",
   "execution_count": null,
   "outputs": [],
   "source": [],
   "metadata": {
    "collapsed": false
   },
   "id": "a8e998b8146799de"
  }
 ],
 "metadata": {
  "kernelspec": {
   "display_name": "Python 3",
   "language": "python",
   "name": "python3"
  },
  "language_info": {
   "codemirror_mode": {
    "name": "ipython",
    "version": 2
   },
   "file_extension": ".py",
   "mimetype": "text/x-python",
   "name": "python",
   "nbconvert_exporter": "python",
   "pygments_lexer": "ipython2",
   "version": "2.7.6"
  }
 },
 "nbformat": 4,
 "nbformat_minor": 5
}
