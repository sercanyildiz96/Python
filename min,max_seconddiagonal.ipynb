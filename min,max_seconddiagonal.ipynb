{
 "cells": [
  {
   "cell_type": "code",
   "execution_count": 2,
   "outputs": [],
   "source": [
    "def second_diag(grid):\n",
    "    if len(grid) == 0:\n",
    "        return [None, None]\n",
    "    \n",
    "    mini, maxi = float('inf'), float('-inf')\n",
    "    for i in range(len(grid)):\n",
    "        if grid[i][len(grid)-i-1] < mini:\n",
    "            mini = grid[i][len(grid)-i-1]\n",
    "        if grid[i][len(grid)-i-1] > maxi:\n",
    "            maxi = grid[i][len(grid)-i-1]\n",
    "    return [mini, maxi]"
   ],
   "metadata": {
    "collapsed": false,
    "ExecuteTime": {
     "end_time": "2024-11-01T19:19:23.904670300Z",
     "start_time": "2024-11-01T19:19:23.895656200Z"
    }
   },
   "id": "8005627c25ad55da"
  },
  {
   "cell_type": "code",
   "execution_count": 3,
   "outputs": [
    {
     "data": {
      "text/plain": "[-15, -3]"
     },
     "execution_count": 3,
     "metadata": {},
     "output_type": "execute_result"
    }
   ],
   "source": [
    "second_diag([[-5, -1, -9, -11], [-2, -4, -8, -10], [-13, -3, -6, -7], [-15, -14, -12, -16]])"
   ],
   "metadata": {
    "collapsed": false,
    "ExecuteTime": {
     "end_time": "2024-11-01T19:19:43.371745300Z",
     "start_time": "2024-11-01T19:19:43.360373500Z"
    }
   },
   "id": "3b3ff7415e42e2a8"
  },
  {
   "cell_type": "code",
   "execution_count": null,
   "outputs": [],
   "source": [],
   "metadata": {
    "collapsed": false
   },
   "id": "6db68b3c0687419e"
  }
 ],
 "metadata": {
  "kernelspec": {
   "display_name": "Python 3",
   "language": "python",
   "name": "python3"
  },
  "language_info": {
   "codemirror_mode": {
    "name": "ipython",
    "version": 2
   },
   "file_extension": ".py",
   "mimetype": "text/x-python",
   "name": "python",
   "nbconvert_exporter": "python",
   "pygments_lexer": "ipython2",
   "version": "2.7.6"
  }
 },
 "nbformat": 4,
 "nbformat_minor": 5
}
