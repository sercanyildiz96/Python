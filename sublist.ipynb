{
 "cells": [
  {
   "cell_type": "code",
   "execution_count": 10,
   "id": "initial_id",
   "metadata": {
    "collapsed": true,
    "ExecuteTime": {
     "end_time": "2024-10-23T23:03:04.015290100Z",
     "start_time": "2024-10-23T23:03:04.006647400Z"
    }
   },
   "outputs": [],
   "source": [
    "def sublist(n, m):\n",
    "    flag = 0\n",
    "    for i in range(len(n)):\n",
    "        if m[0] == n[i]:\n",
    "            for j in range(len(m)):\n",
    "                if m[j] == n[i+j]:\n",
    "                    flag = 1\n",
    "                else:\n",
    "                    flag = 0\n",
    "                    break\n",
    "                \n",
    "    return True if flag == 1 else False"
   ]
  },
  {
   "cell_type": "code",
   "execution_count": 17,
   "outputs": [
    {
     "name": "stdout",
     "output_type": "stream",
     "text": [
      "False\n",
      "True\n"
     ]
    }
   ],
   "source": [
    "print(sublist([1,2,3,4],[1,2,4]))\n",
    "print(sublist([1,2,3,4], [1,2,3]))"
   ],
   "metadata": {
    "collapsed": false,
    "ExecuteTime": {
     "end_time": "2024-10-23T23:03:46.030338300Z",
     "start_time": "2024-10-23T23:03:46.020820400Z"
    }
   },
   "id": "80b16e924689ecfc"
  },
  {
   "cell_type": "code",
   "execution_count": null,
   "outputs": [],
   "source": [],
   "metadata": {
    "collapsed": false
   },
   "id": "b3b9c53d31c0319e"
  }
 ],
 "metadata": {
  "kernelspec": {
   "display_name": "Python 3",
   "language": "python",
   "name": "python3"
  },
  "language_info": {
   "codemirror_mode": {
    "name": "ipython",
    "version": 2
   },
   "file_extension": ".py",
   "mimetype": "text/x-python",
   "name": "python",
   "nbconvert_exporter": "python",
   "pygments_lexer": "ipython2",
   "version": "2.7.6"
  }
 },
 "nbformat": 4,
 "nbformat_minor": 5
}
