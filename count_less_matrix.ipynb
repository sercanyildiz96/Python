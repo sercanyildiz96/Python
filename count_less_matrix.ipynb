{
 "cells": [
  {
   "cell_type": "code",
   "execution_count": 13,
   "id": "initial_id",
   "metadata": {
    "collapsed": true,
    "ExecuteTime": {
     "end_time": "2024-11-01T19:12:05.060396900Z",
     "start_time": "2024-11-01T19:12:05.053382700Z"
    }
   },
   "outputs": [],
   "source": [
    "def count_less_than(matrix, target):\n",
    "    coun = 0\n",
    "    for i in matrix:\n",
    "        for j in range(len(i)-1, -1, -1):\n",
    "            if i[j] < target:\n",
    "                coun += j + 1\n",
    "                break\n",
    "    return coun"
   ]
  },
  {
   "cell_type": "code",
   "execution_count": 14,
   "outputs": [
    {
     "data": {
      "text/plain": "1"
     },
     "execution_count": 14,
     "metadata": {},
     "output_type": "execute_result"
    }
   ],
   "source": [
    "count_less_than([[1, 2], [2, 3]], 2)"
   ],
   "metadata": {
    "collapsed": false,
    "ExecuteTime": {
     "end_time": "2024-11-01T19:12:05.235581400Z",
     "start_time": "2024-11-01T19:12:05.230895400Z"
    }
   },
   "id": "486e38a61120d9b1"
  },
  {
   "cell_type": "code",
   "execution_count": null,
   "outputs": [],
   "source": [],
   "metadata": {
    "collapsed": false
   },
   "id": "6a057e52f2e85700"
  }
 ],
 "metadata": {
  "kernelspec": {
   "display_name": "Python 3",
   "language": "python",
   "name": "python3"
  },
  "language_info": {
   "codemirror_mode": {
    "name": "ipython",
    "version": 2
   },
   "file_extension": ".py",
   "mimetype": "text/x-python",
   "name": "python",
   "nbconvert_exporter": "python",
   "pygments_lexer": "ipython2",
   "version": "2.7.6"
  }
 },
 "nbformat": 4,
 "nbformat_minor": 5
}
