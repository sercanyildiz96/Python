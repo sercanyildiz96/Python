{
 "cells": [
  {
   "cell_type": "code",
   "execution_count": 1,
   "outputs": [],
   "source": [
    "from typing import List\n",
    "\n",
    "def is_toeplitz(matrix: List[List[int]]) -> bool:\n",
    "   for i in range(len(matrix)):\n",
    "      for j in range(len(matrix)):\n",
    "         for k in range(len(matrix)):\n",
    "            if i + k < len(matrix) and j + k < len(matrix) and matrix[i][j] != matrix[i+k][j+k]:\n",
    "               return False\n",
    "   \n",
    "   return True"
   ],
   "metadata": {
    "collapsed": false,
    "ExecuteTime": {
     "end_time": "2024-11-01T18:37:28.229741600Z",
     "start_time": "2024-11-01T18:37:28.227190600Z"
    }
   },
   "id": "aab8920ca3f18c2"
  },
  {
   "cell_type": "code",
   "execution_count": 2,
   "outputs": [
    {
     "data": {
      "text/plain": "True"
     },
     "execution_count": 2,
     "metadata": {},
     "output_type": "execute_result"
    }
   ],
   "source": [
    "is_toeplitz([[6, 7, 8], [4, 6, 7], [1, 4, 6]])"
   ],
   "metadata": {
    "collapsed": false,
    "ExecuteTime": {
     "end_time": "2024-11-01T18:38:02.636511700Z",
     "start_time": "2024-11-01T18:38:02.625332400Z"
    }
   },
   "id": "1d5277e65eda1e5"
  },
  {
   "cell_type": "code",
   "execution_count": 3,
   "outputs": [
    {
     "data": {
      "text/plain": "False"
     },
     "execution_count": 3,
     "metadata": {},
     "output_type": "execute_result"
    }
   ],
   "source": [
    "is_toeplitz([[1, 2, 3], [4, 5, 6], [7, 8, 9]])"
   ],
   "metadata": {
    "collapsed": false,
    "ExecuteTime": {
     "end_time": "2024-11-01T18:38:20.533070900Z",
     "start_time": "2024-11-01T18:38:20.518343Z"
    }
   },
   "id": "222e376bc5b28d5a"
  }
 ],
 "metadata": {
  "kernelspec": {
   "display_name": "Python 3",
   "language": "python",
   "name": "python3"
  },
  "language_info": {
   "codemirror_mode": {
    "name": "ipython",
    "version": 2
   },
   "file_extension": ".py",
   "mimetype": "text/x-python",
   "name": "python",
   "nbconvert_exporter": "python",
   "pygments_lexer": "ipython2",
   "version": "2.7.6"
  }
 },
 "nbformat": 4,
 "nbformat_minor": 5
}
