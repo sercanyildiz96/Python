{
 "cells": [
  {
   "cell_type": "code",
   "execution_count": 1,
   "id": "initial_id",
   "metadata": {
    "collapsed": true,
    "ExecuteTime": {
     "end_time": "2024-09-20T23:07:52.281192400Z",
     "start_time": "2024-09-20T23:07:52.121296900Z"
    }
   },
   "outputs": [],
   "source": [
    "def f1(x, a, index = 0):\n",
    "    sub1 = a[:len(a)//2]\n",
    "    sub2 = a[len(a)//2:]\n",
    "    if len(a) == 1 or len(a) == 0:\n",
    "        return index\n",
    "    if x in sub1:\n",
    "        index += 0\n",
    "        return f1(x, sub1, index)\n",
    "    elif x in sub2:\n",
    "        index += len(sub1)\n",
    "        return f1(x, sub2, index)"
   ]
  },
  {
   "cell_type": "code",
   "execution_count": 17,
   "outputs": [
    {
     "name": "stdout",
     "output_type": "stream",
     "text": [
      "5\n"
     ]
    }
   ],
   "source": [
    "#Giving 5 as input from a list of numbers from 0 to 101\n",
    "a = list(range(0,101,1))\n",
    "print(f1(int(input()), a))"
   ],
   "metadata": {
    "collapsed": false,
    "ExecuteTime": {
     "end_time": "2024-09-20T23:12:52.364441900Z",
     "start_time": "2024-09-20T23:12:50.662785400Z"
    }
   },
   "id": "f51e01ae7fe40b65"
  },
  {
   "cell_type": "code",
   "execution_count": 18,
   "outputs": [
    {
     "name": "stdout",
     "output_type": "stream",
     "text": [
      "15\n"
     ]
    }
   ],
   "source": [
    "#Giving 32 as an input from a list of numbers from 2 to 101 with increment of 2\n",
    "a = list(range(2,101,2))\n",
    "print(f1(int(input()), a))"
   ],
   "metadata": {
    "collapsed": false,
    "ExecuteTime": {
     "end_time": "2024-09-20T23:12:54.183738400Z",
     "start_time": "2024-09-20T23:12:53.420759400Z"
    }
   },
   "id": "5526d262bd505a41"
  },
  {
   "cell_type": "code",
   "execution_count": 19,
   "outputs": [
    {
     "name": "stdout",
     "output_type": "stream",
     "text": [
      "7\n"
     ]
    }
   ],
   "source": [
    "#Giving 15 as an input from a list of numbers from 1 to 101 with increment of 2\n",
    "a = list(range(1,101,2))\n",
    "print(f1(int(input()), a))"
   ],
   "metadata": {
    "collapsed": false,
    "ExecuteTime": {
     "end_time": "2024-09-20T23:12:58.686325900Z",
     "start_time": "2024-09-20T23:12:56.023174800Z"
    }
   },
   "id": "bc2d119d617c25c2"
  },
  {
   "cell_type": "code",
   "execution_count": null,
   "outputs": [],
   "source": [],
   "metadata": {
    "collapsed": false
   },
   "id": "1597b84664f0cdc9"
  }
 ],
 "metadata": {
  "kernelspec": {
   "display_name": "Python 3",
   "language": "python",
   "name": "python3"
  },
  "language_info": {
   "codemirror_mode": {
    "name": "ipython",
    "version": 2
   },
   "file_extension": ".py",
   "mimetype": "text/x-python",
   "name": "python",
   "nbconvert_exporter": "python",
   "pygments_lexer": "ipython2",
   "version": "2.7.6"
  }
 },
 "nbformat": 4,
 "nbformat_minor": 5
}
