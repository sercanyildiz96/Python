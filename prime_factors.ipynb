{
 "cells": [
  {
   "cell_type": "code",
   "execution_count": 13,
   "id": "initial_id",
   "metadata": {
    "collapsed": true,
    "ExecuteTime": {
     "end_time": "2024-10-23T22:06:47.642810100Z",
     "start_time": "2024-10-23T22:06:47.634291Z"
    }
   },
   "outputs": [],
   "source": [
    "def prime_factors(n):\n",
    "    if n < 2:\n",
    "        return None\n",
    "    primes = []\n",
    "    for i in range(2, n+1):\n",
    "        if n % i == 0:\n",
    "            primes.append(i)\n",
    "            while n % i == 0:\n",
    "                n = n / i\n",
    "    return primes"
   ]
  },
  {
   "cell_type": "code",
   "execution_count": 18,
   "outputs": [
    {
     "data": {
      "text/plain": "[53]"
     },
     "execution_count": 18,
     "metadata": {},
     "output_type": "execute_result"
    }
   ],
   "source": [
    "prime_factors(53)"
   ],
   "metadata": {
    "collapsed": false,
    "ExecuteTime": {
     "end_time": "2024-10-23T22:07:00.012453600Z",
     "start_time": "2024-10-23T22:07:00.001916Z"
    }
   },
   "id": "c2627b1933ce6675"
  },
  {
   "cell_type": "code",
   "execution_count": 19,
   "outputs": [
    {
     "data": {
      "text/plain": "[2]"
     },
     "execution_count": 19,
     "metadata": {},
     "output_type": "execute_result"
    }
   ],
   "source": [
    "prime_factors(16)"
   ],
   "metadata": {
    "collapsed": false,
    "ExecuteTime": {
     "end_time": "2024-10-23T22:08:11.629003900Z",
     "start_time": "2024-10-23T22:08:11.622711Z"
    }
   },
   "id": "90c31fa405354fe6"
  },
  {
   "cell_type": "code",
   "execution_count": 20,
   "outputs": [
    {
     "data": {
      "text/plain": "[3, 5]"
     },
     "execution_count": 20,
     "metadata": {},
     "output_type": "execute_result"
    }
   ],
   "source": [
    "prime_factors(15)"
   ],
   "metadata": {
    "collapsed": false,
    "ExecuteTime": {
     "end_time": "2024-10-23T22:08:16.124834400Z",
     "start_time": "2024-10-23T22:08:16.115862700Z"
    }
   },
   "id": "3f8fc8783eb14597"
  },
  {
   "cell_type": "code",
   "execution_count": null,
   "outputs": [],
   "source": [],
   "metadata": {
    "collapsed": false
   },
   "id": "649404e08d8d3d24"
  }
 ],
 "metadata": {
  "kernelspec": {
   "display_name": "Python 3",
   "language": "python",
   "name": "python3"
  },
  "language_info": {
   "codemirror_mode": {
    "name": "ipython",
    "version": 2
   },
   "file_extension": ".py",
   "mimetype": "text/x-python",
   "name": "python",
   "nbconvert_exporter": "python",
   "pygments_lexer": "ipython2",
   "version": "2.7.6"
  }
 },
 "nbformat": 4,
 "nbformat_minor": 5
}
