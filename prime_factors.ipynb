{
 "cells": [
  {
   "cell_type": "code",
   "execution_count": 17,
   "id": "initial_id",
   "metadata": {
    "collapsed": true,
    "ExecuteTime": {
     "end_time": "2024-10-26T02:31:05.286949600Z",
     "start_time": "2024-10-26T02:31:05.283433100Z"
    }
   },
   "outputs": [],
   "source": [
    "import math\n",
    "def get_prime_factors(n):\n",
    "    if n < 2:\n",
    "        return None\n",
    "    primes = []\n",
    "    for i in range(2, int(math.sqrt(n))):\n",
    "        if n % i == 0:\n",
    "            primes.append(i)\n",
    "            while n % i == 0:\n",
    "                n = n / i\n",
    "    if not primes:\n",
    "        primes.append(n)\n",
    "    return primes"
   ]
  },
  {
   "cell_type": "code",
   "execution_count": 18,
   "outputs": [
    {
     "data": {
      "text/plain": "[2, 3]"
     },
     "execution_count": 18,
     "metadata": {},
     "output_type": "execute_result"
    }
   ],
   "source": [
    "get_prime_factors(123456)"
   ],
   "metadata": {
    "collapsed": false,
    "ExecuteTime": {
     "end_time": "2024-10-26T02:31:05.528954300Z",
     "start_time": "2024-10-26T02:31:05.520222400Z"
    }
   },
   "id": "c2627b1933ce6675"
  },
  {
   "cell_type": "code",
   "execution_count": 19,
   "outputs": [
    {
     "data": {
      "text/plain": "[2]"
     },
     "execution_count": 19,
     "metadata": {},
     "output_type": "execute_result"
    }
   ],
   "source": [
    "prime_factors(16)"
   ],
   "metadata": {
    "collapsed": false,
    "ExecuteTime": {
     "end_time": "2024-10-23T22:08:11.629003900Z",
     "start_time": "2024-10-23T22:08:11.622711Z"
    }
   },
   "id": "90c31fa405354fe6"
  },
  {
   "cell_type": "code",
   "execution_count": 21,
   "outputs": [
    {
     "data": {
      "text/plain": "[2, 2, 2, 2]"
     },
     "execution_count": 21,
     "metadata": {},
     "output_type": "execute_result"
    }
   ],
   "source": [
    "prime_factors(16)"
   ],
   "metadata": {
    "collapsed": false,
    "ExecuteTime": {
     "end_time": "2024-10-26T02:34:17.052943900Z",
     "start_time": "2024-10-26T02:34:16.970179900Z"
    }
   },
   "id": "3f8fc8783eb14597"
  },
  {
   "cell_type": "code",
   "execution_count": 19,
   "outputs": [],
   "source": [
    "def prime_factors(n):\n",
    "    factors = []\n",
    "    \n",
    "    # Step 1: Divide out all factors of 2\n",
    "    while n % 2 == 0:\n",
    "        factors.append(2)\n",
    "        n //= 2\n",
    "    \n",
    "    # Step 2: Divide out all odd factors from 3 to sqrt(n)\n",
    "    factor = 3\n",
    "    while factor * factor <= n:\n",
    "        while n % factor == 0:\n",
    "            factors.append(factor)\n",
    "            n //= factor\n",
    "        factor += 2\n",
    "    \n",
    "    # Step 3: If n is still greater than 2, then it must be a prime number\n",
    "    if n > 2:\n",
    "        factors.append(n)\n",
    "    \n",
    "    return factors"
   ],
   "metadata": {
    "collapsed": false,
    "ExecuteTime": {
     "end_time": "2024-10-26T02:33:48.239744600Z",
     "start_time": "2024-10-26T02:33:48.057913600Z"
    }
   },
   "id": "649404e08d8d3d24"
  },
  {
   "cell_type": "code",
   "execution_count": null,
   "outputs": [],
   "source": [],
   "metadata": {
    "collapsed": false
   },
   "id": "c889e8ded0fe7ee9"
  }
 ],
 "metadata": {
  "kernelspec": {
   "display_name": "Python 3",
   "language": "python",
   "name": "python3"
  },
  "language_info": {
   "codemirror_mode": {
    "name": "ipython",
    "version": 2
   },
   "file_extension": ".py",
   "mimetype": "text/x-python",
   "name": "python",
   "nbconvert_exporter": "python",
   "pygments_lexer": "ipython2",
   "version": "2.7.6"
  }
 },
 "nbformat": 4,
 "nbformat_minor": 5
}
