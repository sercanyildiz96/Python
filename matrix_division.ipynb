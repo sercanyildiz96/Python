{
 "cells": [
  {
   "cell_type": "code",
   "execution_count": 70,
   "id": "initial_id",
   "metadata": {
    "collapsed": true,
    "ExecuteTime": {
     "end_time": "2024-10-28T19:07:43.897101300Z",
     "start_time": "2024-10-28T19:07:43.889328700Z"
    }
   },
   "outputs": [],
   "source": [
    "def divide_matrix(matrix):\n",
    "    results = {}\n",
    "    for i in range(len(matrix)-1):\n",
    "        for j in range(len(matrix[i])-1):\n",
    "            s1, s2, s3, s4 = 0, 0, 0, 0\n",
    "            s1_count, s2_count, s3_count, s4_count = 0, 0, 0, 0\n",
    "            for k in range(len(matrix)):\n",
    "               for l in range(len(matrix[k])):\n",
    "                   if matrix[k][l] >= 0:\n",
    "                       if k <= i:\n",
    "                           if l <= j:\n",
    "                                s1 += matrix[k][l]\n",
    "                                s1_count += 1\n",
    "                           elif l > j:\n",
    "                                s2 += matrix[k][l]\n",
    "                                s2_count += 1\n",
    "                       elif k > i:\n",
    "                           if l <= j:\n",
    "                                s3 += matrix[k][l]\n",
    "                                s3_count += 1\n",
    "                           elif l > j:\n",
    "                                s4 += matrix[k][l]\n",
    "                                s4_count += 1\n",
    "            if s1_count > 0 and s2_count > 0 and s3_count > 0 and s4_count > 0:\n",
    "                res = max(s1, s2, s3, s4) - min(s1, s2, s3, s4)\n",
    "                results[(i, j)] = res\n",
    "    min_key = None\n",
    "    min_value = float('inf')\n",
    "    \n",
    "    for key, value in results.items():\n",
    "        if value < min_value:\n",
    "            min_value = value\n",
    "            min_key = key\n",
    "    return min_key"
   ]
  },
  {
   "cell_type": "code",
   "execution_count": 71,
   "outputs": [
    {
     "data": {
      "text/plain": "(1, 1)"
     },
     "execution_count": 71,
     "metadata": {},
     "output_type": "execute_result"
    }
   ],
   "source": [
    "matrix_1 = [\n",
    "    [1, 2, 3],\n",
    "    [4, 5, 6],\n",
    "    [7, 8, 9]\n",
    "]\n",
    "divide_matrix(matrix_1)"
   ],
   "metadata": {
    "collapsed": false,
    "ExecuteTime": {
     "end_time": "2024-10-28T19:07:44.529658200Z",
     "start_time": "2024-10-28T19:07:44.522268900Z"
    }
   },
   "id": "88d496dcd055052"
  },
  {
   "cell_type": "code",
   "execution_count": 72,
   "outputs": [
    {
     "data": {
      "text/plain": "(0, 0)"
     },
     "execution_count": 72,
     "metadata": {},
     "output_type": "execute_result"
    }
   ],
   "source": [
    "matrix_2 = [\n",
    "    [0, 0, 0],\n",
    "    [0, 5, 0],\n",
    "    [0, 0, 0]\n",
    "]\n",
    "divide_matrix(matrix_2)"
   ],
   "metadata": {
    "collapsed": false,
    "ExecuteTime": {
     "end_time": "2024-10-28T19:07:44.931821500Z",
     "start_time": "2024-10-28T19:07:44.923065200Z"
    }
   },
   "id": "6137c0f4e0c6c035"
  },
  {
   "cell_type": "code",
   "execution_count": 73,
   "outputs": [
    {
     "data": {
      "text/plain": "(1, 1)"
     },
     "execution_count": 73,
     "metadata": {},
     "output_type": "execute_result"
    }
   ],
   "source": [
    "matrix_3 = [\n",
    "    [0, 0, 0],\n",
    "    [1, 2, 3],\n",
    "    [4, 5, 6]\n",
    "]\n",
    "divide_matrix(matrix_3)"
   ],
   "metadata": {
    "collapsed": false,
    "ExecuteTime": {
     "end_time": "2024-10-28T19:07:58.715620700Z",
     "start_time": "2024-10-28T19:07:58.710459700Z"
    }
   },
   "id": "1c8536c623321b0"
  },
  {
   "cell_type": "code",
   "execution_count": 74,
   "outputs": [],
   "source": [
    "matrix_4 = [\n",
    "    [-1, -1],\n",
    "    [-1, -1]\n",
    "]\n",
    "divide_matrix(matrix_4)"
   ],
   "metadata": {
    "collapsed": false,
    "ExecuteTime": {
     "end_time": "2024-10-28T19:08:10.478232200Z",
     "start_time": "2024-10-28T19:08:10.472179300Z"
    }
   },
   "id": "bc20c32a692ce13a"
  },
  {
   "cell_type": "code",
   "execution_count": 75,
   "outputs": [
    {
     "data": {
      "text/plain": "(1, 0)"
     },
     "execution_count": 75,
     "metadata": {},
     "output_type": "execute_result"
    }
   ],
   "source": [
    "matrix_5 = [\n",
    "    [1, 2],\n",
    "    [3, 4],\n",
    "    [5, 6]\n",
    "]\n",
    "divide_matrix(matrix_5)"
   ],
   "metadata": {
    "collapsed": false,
    "ExecuteTime": {
     "end_time": "2024-10-28T19:08:14.762727500Z",
     "start_time": "2024-10-28T19:08:14.756043100Z"
    }
   },
   "id": "bd6418f89fae7636"
  },
  {
   "cell_type": "code",
   "execution_count": 76,
   "outputs": [
    {
     "data": {
      "text/plain": "(1, 1)"
     },
     "execution_count": 76,
     "metadata": {},
     "output_type": "execute_result"
    }
   ],
   "source": [
    "matrix_6 = [\n",
    "    [1000, 2000, 3000],\n",
    "    [4000, 5000, 6000],\n",
    "    [7000, 8000, 9000]\n",
    "]\n",
    "divide_matrix(matrix_6)"
   ],
   "metadata": {
    "collapsed": false,
    "ExecuteTime": {
     "end_time": "2024-10-28T19:08:24.069759800Z",
     "start_time": "2024-10-28T19:08:24.064101500Z"
    }
   },
   "id": "7e67a288fe6bf71c"
  },
  {
   "cell_type": "code",
   "execution_count": 77,
   "outputs": [],
   "source": [
    "matrix_7 = [\n",
    "    [10]\n",
    "]\n",
    "divide_matrix(matrix_7)"
   ],
   "metadata": {
    "collapsed": false,
    "ExecuteTime": {
     "end_time": "2024-10-28T19:08:28.467204500Z",
     "start_time": "2024-10-28T19:08:28.460634500Z"
    }
   },
   "id": "f91f5add48444eb"
  },
  {
   "cell_type": "code",
   "execution_count": 78,
   "outputs": [
    {
     "data": {
      "text/plain": "(0, 0)"
     },
     "execution_count": 78,
     "metadata": {},
     "output_type": "execute_result"
    }
   ],
   "source": [
    "matrix_8 = [\n",
    "    [0, 0, 0],\n",
    "    [0, 1, 0],\n",
    "    [0, 0, 0]\n",
    "]\n",
    "divide_matrix(matrix_8)"
   ],
   "metadata": {
    "collapsed": false,
    "ExecuteTime": {
     "end_time": "2024-10-28T19:08:29.932332200Z",
     "start_time": "2024-10-28T19:08:29.914211800Z"
    }
   },
   "id": "7882a12aafacc864"
  },
  {
   "cell_type": "code",
   "execution_count": null,
   "outputs": [],
   "source": [],
   "metadata": {
    "collapsed": false
   },
   "id": "3d529ba66dc09123"
  }
 ],
 "metadata": {
  "kernelspec": {
   "display_name": "Python 3",
   "language": "python",
   "name": "python3"
  },
  "language_info": {
   "codemirror_mode": {
    "name": "ipython",
    "version": 2
   },
   "file_extension": ".py",
   "mimetype": "text/x-python",
   "name": "python",
   "nbconvert_exporter": "python",
   "pygments_lexer": "ipython2",
   "version": "2.7.6"
  }
 },
 "nbformat": 4,
 "nbformat_minor": 5
}
