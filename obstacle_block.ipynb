{
 "cells": [
  {
   "cell_type": "code",
   "execution_count": 36,
   "id": "initial_id",
   "metadata": {
    "collapsed": true,
    "ExecuteTime": {
     "end_time": "2024-10-28T17:22:42.853555300Z",
     "start_time": "2024-10-28T17:22:42.844531Z"
    }
   },
   "outputs": [],
   "source": [
    "def obstacle_check(lst):\n",
    "    obstacles = []\n",
    "    ans = ''\n",
    "    for i in lst:\n",
    "        if i[0] == 1:\n",
    "            obstacles.append(i[1])\n",
    "        elif i[0] == 2:\n",
    "            if any(obstacle in range(i[1]-i[2]+1, i[1]+i[2]) for obstacle in obstacles):\n",
    "                ans += '0'\n",
    "            else:\n",
    "                ans += '1'\n",
    "    return ans"
   ]
  },
  {
   "cell_type": "code",
   "execution_count": 37,
   "outputs": [
    {
     "data": {
      "text/plain": "'010'"
     },
     "execution_count": 37,
     "metadata": {},
     "output_type": "execute_result"
    }
   ],
   "source": [
    "obstacle_check([[1,2],\n",
    "                [1,3],\n",
    "                [2,3,1],\n",
    "                [2,10,3],\n",
    "                [2,15,18]])"
   ],
   "metadata": {
    "collapsed": false,
    "ExecuteTime": {
     "end_time": "2024-10-28T21:44:07.565685700Z",
     "start_time": "2024-10-28T21:44:07.427576100Z"
    }
   },
   "id": "d70a68e3df42b8f"
  },
  {
   "cell_type": "code",
   "execution_count": 25,
   "outputs": [
    {
     "data": {
      "text/plain": "'1'"
     },
     "execution_count": 25,
     "metadata": {},
     "output_type": "execute_result"
    }
   ],
   "source": [
    "obstacle_check([[1, 5],\n",
    "                [2, 7, 2]])"
   ],
   "metadata": {
    "collapsed": false,
    "ExecuteTime": {
     "end_time": "2024-10-28T17:09:27.261070400Z",
     "start_time": "2024-10-28T17:09:27.253435500Z"
    }
   },
   "id": "39c9e525e112da41"
  },
  {
   "cell_type": "code",
   "execution_count": 33,
   "outputs": [
    {
     "ename": "NameError",
     "evalue": "name 'obstacles' is not defined",
     "output_type": "error",
     "traceback": [
      "\u001B[1;31m---------------------------------------------------------------------------\u001B[0m",
      "\u001B[1;31mNameError\u001B[0m                                 Traceback (most recent call last)",
      "Cell \u001B[1;32mIn[33], line 1\u001B[0m\n\u001B[1;32m----> 1\u001B[0m [obstacle \u001B[38;5;129;01min\u001B[39;00m \u001B[38;5;28mrange\u001B[39m(i[\u001B[38;5;241m1\u001B[39m]\u001B[38;5;241m-\u001B[39mi[\u001B[38;5;241m2\u001B[39m]\u001B[38;5;241m+\u001B[39m\u001B[38;5;241m1\u001B[39m, i[\u001B[38;5;241m1\u001B[39m]\u001B[38;5;241m+\u001B[39mi[\u001B[38;5;241m2\u001B[39m]) \u001B[38;5;28;01mfor\u001B[39;00m obstacle \u001B[38;5;129;01min\u001B[39;00m \u001B[43mobstacles\u001B[49m]\n",
      "\u001B[1;31mNameError\u001B[0m: name 'obstacles' is not defined"
     ]
    }
   ],
   "source": [
    "[obstacle in range(i[1]-i[2]+1, i[1]+i[2]) for obstacle in obstacles]"
   ],
   "metadata": {
    "collapsed": false,
    "ExecuteTime": {
     "end_time": "2024-10-28T17:21:03.022812600Z",
     "start_time": "2024-10-28T17:21:03.009780700Z"
    }
   },
   "id": "bac8a63938e1f222"
  },
  {
   "cell_type": "code",
   "execution_count": null,
   "outputs": [],
   "source": [],
   "metadata": {
    "collapsed": false
   },
   "id": "14f30a3fb987f4e5"
  }
 ],
 "metadata": {
  "kernelspec": {
   "display_name": "Python 3",
   "language": "python",
   "name": "python3"
  },
  "language_info": {
   "codemirror_mode": {
    "name": "ipython",
    "version": 2
   },
   "file_extension": ".py",
   "mimetype": "text/x-python",
   "name": "python",
   "nbconvert_exporter": "python",
   "pygments_lexer": "ipython2",
   "version": "2.7.6"
  }
 },
 "nbformat": 4,
 "nbformat_minor": 5
}
