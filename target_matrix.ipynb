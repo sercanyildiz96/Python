{
 "cells": [
  {
   "cell_type": "code",
   "execution_count": 4,
   "outputs": [],
   "source": [
    "def find_row_with_target(matrix: list[list[int]], target: int) -> int | None:\n",
    "    for i in range(len(matrix)):\n",
    "        for j in range(len(matrix)-1, -1, -1):\n",
    "            if matrix[i][j] == target:\n",
    "                return i\n",
    "            elif matrix[i][j] < target:\n",
    "                break\n",
    "            "
   ],
   "metadata": {
    "collapsed": false,
    "ExecuteTime": {
     "end_time": "2024-11-01T20:53:17.629189Z",
     "start_time": "2024-11-01T20:53:17.620184200Z"
    }
   },
   "id": "4345619c11f084ee"
  },
  {
   "cell_type": "code",
   "execution_count": 11,
   "outputs": [
    {
     "data": {
      "text/plain": "2"
     },
     "execution_count": 11,
     "metadata": {},
     "output_type": "execute_result"
    }
   ],
   "source": [
    "find_row_with_target([\n",
    "            [1, 4, 7, 11],\n",
    "            [2, 5, 8, 12],\n",
    "            [3, 6, 9, 16]\n",
    "        ], 9)"
   ],
   "metadata": {
    "collapsed": false,
    "ExecuteTime": {
     "end_time": "2024-11-01T20:54:49.720126100Z",
     "start_time": "2024-11-01T20:54:49.713618200Z"
    }
   },
   "id": "2c435bfaae37fdba"
  },
  {
   "cell_type": "code",
   "execution_count": 15,
   "outputs": [
    {
     "data": {
      "text/plain": "['a', 'c', 'd', 's', 'x']"
     },
     "execution_count": 15,
     "metadata": {},
     "output_type": "execute_result"
    }
   ],
   "source": [
    "sorted('asdxc')"
   ],
   "metadata": {
    "collapsed": false,
    "ExecuteTime": {
     "end_time": "2024-11-01T21:53:17.583097600Z",
     "start_time": "2024-11-01T21:53:17.574318200Z"
    }
   },
   "id": "853e1dcd19653aae"
  },
  {
   "cell_type": "code",
   "execution_count": null,
   "outputs": [],
   "source": [
    "    "
   ],
   "metadata": {
    "collapsed": false
   },
   "id": "c820527270203e21"
  }
 ],
 "metadata": {
  "kernelspec": {
   "display_name": "Python 3",
   "language": "python",
   "name": "python3"
  },
  "language_info": {
   "codemirror_mode": {
    "name": "ipython",
    "version": 2
   },
   "file_extension": ".py",
   "mimetype": "text/x-python",
   "name": "python",
   "nbconvert_exporter": "python",
   "pygments_lexer": "ipython2",
   "version": "2.7.6"
  }
 },
 "nbformat": 4,
 "nbformat_minor": 5
}
