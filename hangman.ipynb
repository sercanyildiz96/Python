{
 "cells": [
  {
   "cell_type": "code",
   "execution_count": 1,
   "metadata": {},
   "outputs": [],
   "source": [
    "words = [\"abbas\", \"hüssin\", \"batman\", \"livid\", \"sercan\", \"asya\"]"
   ]
  },
  {
   "cell_type": "code",
   "execution_count": 2,
   "metadata": {},
   "outputs": [],
   "source": [
    "import random\n",
    "a = words[random.randint(0,5)]"
   ]
  },
  {
   "cell_type": "code",
   "execution_count": 3,
   "metadata": {},
   "outputs": [
    {
     "name": "stdout",
     "output_type": "stream",
     "text": [
      "The word is 4 letters long\n",
      "Enter a letter or the word: i\n",
      "This letter is not in the wordThe word is 4 letters long\n",
      "Enter a letter or the word: ü\n",
      "This letter is not in the wordThe word is 4 letters long\n",
      "Enter a letter or the word: u\n",
      "This letter is not in the wordThe word is 4 letters long\n",
      "Enter a letter or the word: o\n",
      "This letter is not in the wordThe word is 4 letters long\n",
      "Enter a letter or the word: a\n",
      "The letter a appears in 1  4  position\n",
      "The word is 4 letters long\n",
      "Enter a letter or the word: asya\n",
      "Correct answer\n",
      "Good job\n"
     ]
    }
   ],
   "source": [
    "counter = 0\n",
    "while(counter != 5):\n",
    "    print(\"The word is\", len(a), \"letters long\")\n",
    "    b = input(\"Enter a letter or the word: \")\n",
    "    if len(b) != 1:\n",
    "        if b != a:\n",
    "            print(\"Wrong answer\")\n",
    "            counter += 1\n",
    "        else:\n",
    "            print(\"Correct answer\")\n",
    "            break\n",
    "    else:\n",
    "        if b not in a:\n",
    "            print(\"This letter is not in the word\", end = \"\")\n",
    "            counter += 1\n",
    "        else:\n",
    "            print(\"The letter\", b, \"appears in \", end = \"\")\n",
    "            for i in range(len(a)):\n",
    "                if a[i] == b:\n",
    "                    print(i+1, \" \", end = \"\")\n",
    "            print(\"position\")\n",
    "if counter < 5:\n",
    "    print(\"Good job\")\n",
    "else:\n",
    "    print(\"Maybe the next time\")"
   ]
  },
  {
   "cell_type": "code",
   "execution_count": null,
   "metadata": {},
   "outputs": [],
   "source": []
  }
 ],
 "metadata": {
  "kernelspec": {
   "display_name": "Python 3",
   "language": "python",
   "name": "python3"
  },
  "language_info": {
   "codemirror_mode": {
    "name": "ipython",
    "version": 3
   },
   "file_extension": ".py",
   "mimetype": "text/x-python",
   "name": "python",
   "nbconvert_exporter": "python",
   "pygments_lexer": "ipython3",
   "version": "3.8.5"
  }
 },
 "nbformat": 4,
 "nbformat_minor": 4
}
