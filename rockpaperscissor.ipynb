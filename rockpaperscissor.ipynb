{
 "cells": [
  {
   "cell_type": "code",
   "execution_count": 3,
   "metadata": {
    "scrolled": true
   },
   "outputs": [
    {
     "name": "stdout",
     "output_type": "stream",
     "text": [
      "paper\n",
      "scissor\n",
      "You lose\n",
      "y to continuey\n",
      "rock\n",
      "scissor\n",
      "You win\n",
      "y to continuey\n",
      "paper\n",
      "paper\n",
      "Draw\n",
      "y to continuea\n"
     ]
    }
   ],
   "source": [
    "import random\n",
    "def f1(x):\n",
    "    b = [\"rock\", \"paper\", \"scissor\"]\n",
    "    a = b[random.randint(0,2)]\n",
    "    print(a)\n",
    "    if x == a:\n",
    "        print(\"Draw\")\n",
    "    elif b.index(x) == 1 + b.index(a) or b.index(x) == b.index(a)-2:\n",
    "        print(\"You win\")\n",
    "    else:\n",
    "        print(\"You lose\")\n",
    "new = \"y\"\n",
    "while(new == \"y\"):\n",
    "    f1(input())\n",
    "    new = input(\"y to continue\")"
   ]
  },
  {
   "cell_type": "code",
   "execution_count": null,
   "metadata": {},
   "outputs": [],
   "source": []
  }
 ],
 "metadata": {
  "kernelspec": {
   "display_name": "Python 3",
   "language": "python",
   "name": "python3"
  },
  "language_info": {
   "codemirror_mode": {
    "name": "ipython",
    "version": 3
   },
   "file_extension": ".py",
   "mimetype": "text/x-python",
   "name": "python",
   "nbconvert_exporter": "python",
   "pygments_lexer": "ipython3",
   "version": "3.8.5"
  }
 },
 "nbformat": 4,
 "nbformat_minor": 4
}
