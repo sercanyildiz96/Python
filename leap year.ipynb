{
 "cells": [
  {
   "cell_type": "code",
   "execution_count": null,
   "metadata": {},
   "outputs": [
    {
     "name": "stdout",
     "output_type": "stream",
     "text": [
      "97\n",
      "Not a leap year\n",
      "enter y to continue:y\n",
      "2000\n",
      "Not a leap year\n",
      "enter y to continue:y\n",
      "1997\n",
      "Not a leap year\n",
      "enter y to continue:y\n",
      "1996\n",
      "Leap year\n"
     ]
    }
   ],
   "source": [
    "def f1(x):\n",
    "    if x % 4 == 0:\n",
    "        if x % 100 == 0:\n",
    "            if x % 400 == 0:\n",
    "                print(\"Not a leap year\")\n",
    "            else:\n",
    "                print(\"Leap year\")\n",
    "        else:\n",
    "            print(\"Leap year\")\n",
    "    else:\n",
    "        print(\"Not a leap year\")\n",
    "a = \"y\"\n",
    "while(a == \"y\"):\n",
    "    f1(int(input()))\n",
    "    a = input(\"enter y to continue:\")"
   ]
  },
  {
   "cell_type": "code",
   "execution_count": null,
   "metadata": {},
   "outputs": [],
   "source": []
  }
 ],
 "metadata": {
  "kernelspec": {
   "display_name": "Python 3",
   "language": "python",
   "name": "python3"
  },
  "language_info": {
   "codemirror_mode": {
    "name": "ipython",
    "version": 3
   },
   "file_extension": ".py",
   "mimetype": "text/x-python",
   "name": "python",
   "nbconvert_exporter": "python",
   "pygments_lexer": "ipython3",
   "version": "3.8.5"
  }
 },
 "nbformat": 4,
 "nbformat_minor": 4
}
