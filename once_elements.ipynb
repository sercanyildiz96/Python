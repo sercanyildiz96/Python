{
 "cells": [
  {
   "cell_type": "code",
   "execution_count": 1,
   "id": "initial_id",
   "metadata": {
    "collapsed": true,
    "ExecuteTime": {
     "end_time": "2024-10-23T22:43:38.872505500Z",
     "start_time": "2024-10-23T22:43:38.869725200Z"
    }
   },
   "outputs": [],
   "source": [
    "def once_elements(n):\n",
    "    hasht = {}\n",
    "    for i in n:\n",
    "        if i in hasht:\n",
    "            hasht[i] += 1\n",
    "        else:\n",
    "            hasht[i] = 1\n",
    "    count = 0\n",
    "    for i in hasht:\n",
    "        if hasht[i] == 1:\n",
    "            count += 1\n",
    "    return count"
   ]
  },
  {
   "cell_type": "code",
   "execution_count": 2,
   "outputs": [
    {
     "data": {
      "text/plain": "3"
     },
     "execution_count": 2,
     "metadata": {},
     "output_type": "execute_result"
    }
   ],
   "source": [
    "once_elements([1,2,3,4,2])"
   ],
   "metadata": {
    "collapsed": false,
    "ExecuteTime": {
     "end_time": "2024-10-23T22:43:47.010237300Z",
     "start_time": "2024-10-23T22:43:46.993588400Z"
    }
   },
   "id": "6d7de01508598acf"
  },
  {
   "cell_type": "code",
   "execution_count": null,
   "outputs": [],
   "source": [],
   "metadata": {
    "collapsed": false
   },
   "id": "944c47033bb69a04"
  }
 ],
 "metadata": {
  "kernelspec": {
   "display_name": "Python 3",
   "language": "python",
   "name": "python3"
  },
  "language_info": {
   "codemirror_mode": {
    "name": "ipython",
    "version": 2
   },
   "file_extension": ".py",
   "mimetype": "text/x-python",
   "name": "python",
   "nbconvert_exporter": "python",
   "pygments_lexer": "ipython2",
   "version": "2.7.6"
  }
 },
 "nbformat": 4,
 "nbformat_minor": 5
}
