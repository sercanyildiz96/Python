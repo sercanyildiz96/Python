{
 "cells": [
  {
   "cell_type": "code",
   "execution_count": 8,
   "id": "initial_id",
   "metadata": {
    "collapsed": true,
    "ExecuteTime": {
     "end_time": "2024-10-23T21:57:38.991985500Z",
     "start_time": "2024-10-23T21:57:38.983981500Z"
    }
   },
   "outputs": [],
   "source": [
    "def next_prime(n):\n",
    "    if n < 2:\n",
    "        return 2\n",
    "    while True:\n",
    "        n = n + 1\n",
    "        flag = 0\n",
    "        for i in range(2, n):\n",
    "            if n % i == 0:\n",
    "                flag = 1\n",
    "                break\n",
    "        if flag == 0:\n",
    "            return n"
   ]
  },
  {
   "cell_type": "code",
   "execution_count": 10,
   "outputs": [
    {
     "data": {
      "text/plain": "2"
     },
     "execution_count": 10,
     "metadata": {},
     "output_type": "execute_result"
    }
   ],
   "source": [
    "next_prime(-5)"
   ],
   "metadata": {
    "collapsed": false,
    "ExecuteTime": {
     "end_time": "2024-10-23T21:57:43.002666500Z",
     "start_time": "2024-10-23T21:57:42.992302600Z"
    }
   },
   "id": "ce3501c7ea0241b9"
  },
  {
   "cell_type": "code",
   "execution_count": null,
   "outputs": [],
   "source": [],
   "metadata": {
    "collapsed": false
   },
   "id": "41b3d9be613ba721"
  }
 ],
 "metadata": {
  "kernelspec": {
   "display_name": "Python 3",
   "language": "python",
   "name": "python3"
  },
  "language_info": {
   "codemirror_mode": {
    "name": "ipython",
    "version": 2
   },
   "file_extension": ".py",
   "mimetype": "text/x-python",
   "name": "python",
   "nbconvert_exporter": "python",
   "pygments_lexer": "ipython2",
   "version": "2.7.6"
  }
 },
 "nbformat": 4,
 "nbformat_minor": 5
}
