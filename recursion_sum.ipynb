{
 "cells": [
  {
   "cell_type": "code",
   "execution_count": 4,
   "outputs": [],
   "source": [
    "def recursion_sum(n, m = 0):\n",
    "    m += n\n",
    "    if n > 0:\n",
    "        return recursion_sum(n-1, m)\n",
    "    return m"
   ],
   "metadata": {
    "collapsed": false,
    "ExecuteTime": {
     "end_time": "2024-10-23T23:09:54.867311100Z",
     "start_time": "2024-10-23T23:09:54.856943300Z"
    }
   },
   "id": "38058acbdc1698ba"
  },
  {
   "cell_type": "code",
   "execution_count": 12,
   "outputs": [
    {
     "data": {
      "text/plain": "15"
     },
     "execution_count": 12,
     "metadata": {},
     "output_type": "execute_result"
    }
   ],
   "source": [
    "recursion_sum(5)"
   ],
   "metadata": {
    "collapsed": false,
    "ExecuteTime": {
     "end_time": "2024-10-23T23:12:41.343341900Z",
     "start_time": "2024-10-23T23:12:41.326614800Z"
    }
   },
   "id": "302b2f2c726bde30"
  },
  {
   "cell_type": "code",
   "execution_count": 10,
   "outputs": [],
   "source": [
    " def recursion_sum(n):\n",
    "    if n == 0:\n",
    "        return 0\n",
    "    return n + recursion_sum(n - 1)"
   ],
   "metadata": {
    "collapsed": false,
    "ExecuteTime": {
     "end_time": "2024-10-23T23:12:36.432959100Z",
     "start_time": "2024-10-23T23:12:36.427448400Z"
    }
   },
   "id": "61277148946bc5f9"
  },
  {
   "cell_type": "code",
   "execution_count": null,
   "outputs": [],
   "source": [],
   "metadata": {
    "collapsed": false
   },
   "id": "c40e75544589e58f"
  }
 ],
 "metadata": {
  "kernelspec": {
   "display_name": "Python 3",
   "language": "python",
   "name": "python3"
  },
  "language_info": {
   "codemirror_mode": {
    "name": "ipython",
    "version": 2
   },
   "file_extension": ".py",
   "mimetype": "text/x-python",
   "name": "python",
   "nbconvert_exporter": "python",
   "pygments_lexer": "ipython2",
   "version": "2.7.6"
  }
 },
 "nbformat": 4,
 "nbformat_minor": 5
}
