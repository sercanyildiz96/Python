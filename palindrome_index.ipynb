{
 "cells": [
  {
   "cell_type": "code",
   "execution_count": 1,
   "id": "initial_id",
   "metadata": {
    "collapsed": true,
    "ExecuteTime": {
     "end_time": "2024-11-01T20:42:27.047207800Z",
     "start_time": "2024-11-01T20:42:27.044486700Z"
    }
   },
   "outputs": [],
   "source": [
    "def palindrome_index(s):\n",
    "    if s == s[::-1]:\n",
    "        return -1\n",
    "    for i in range(len(s)//2):\n",
    "        if s[i] != s[-i-1]:\n",
    "            if s[i+1:len(s)-i] == s[i+1:len(s)-i][::-1]:\n",
    "                return i\n",
    "            elif s[i:len(s)-i-1] == s[i:len(s)-i-1][::-1]:\n",
    "                return len(s)-i-1\n",
    "    return -1"
   ]
  },
  {
   "cell_type": "code",
   "execution_count": 5,
   "outputs": [
    {
     "data": {
      "text/plain": "10"
     },
     "execution_count": 5,
     "metadata": {},
     "output_type": "execute_result"
    }
   ],
   "source": [
    "palindrome_index('aaaaaaaaaaca')"
   ],
   "metadata": {
    "collapsed": false,
    "ExecuteTime": {
     "end_time": "2024-11-01T20:42:44.112766900Z",
     "start_time": "2024-11-01T20:42:44.105343300Z"
    }
   },
   "id": "cae48ef48afe2af0"
  },
  {
   "cell_type": "code",
   "execution_count": null,
   "outputs": [],
   "source": [],
   "metadata": {
    "collapsed": false
   },
   "id": "cf83d6079031591"
  }
 ],
 "metadata": {
  "kernelspec": {
   "display_name": "Python 3",
   "language": "python",
   "name": "python3"
  },
  "language_info": {
   "codemirror_mode": {
    "name": "ipython",
    "version": 2
   },
   "file_extension": ".py",
   "mimetype": "text/x-python",
   "name": "python",
   "nbconvert_exporter": "python",
   "pygments_lexer": "ipython2",
   "version": "2.7.6"
  }
 },
 "nbformat": 4,
 "nbformat_minor": 5
}
